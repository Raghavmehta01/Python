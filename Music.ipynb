{
 "cells": [
  {
   "cell_type": "code",
   "execution_count": null,
   "id": "3d4260b0-aa23-47e1-a868-e3308c91dfaa",
   "metadata": {},
   "outputs": [
    {
     "name": "stdout",
     "output_type": "stream",
     "text": [
      "Choose a type of music to play:\n",
      "1. Hindi\n",
      "2. Bhojpuri\n",
      "3. Punjabi\n",
      "4. South\n"
     ]
    },
    {
     "name": "stdin",
     "output_type": "stream",
     "text": [
      "Enter the number of your choice:  1\n"
     ]
    },
    {
     "name": "stdout",
     "output_type": "stream",
     "text": [
      "Choose a type of music to play:\n",
      "1. Hindi\n",
      "2. Bhojpuri\n",
      "3. Punjabi\n",
      "4. South\n"
     ]
    }
   ],
   "source": [
    "import pygame\n",
    "import time\n",
    "\n",
    "def playMusic(song):\n",
    "    # Initialize pygame mixer\n",
    "    pygame.mixer.init()\n",
    "    # Load and play the sound\n",
    "    sound = pygame.mixer.Sound(song)\n",
    "    sound.play()\n",
    "    # Wait for 10 seconds and then stop the sound\n",
    "    time.sleep(10)\n",
    "    sound.stop()\n",
    "\n",
    "while True:\n",
    "    print(\"Choose a type of music to play:\")\n",
    "    print(\"1. Hindi\")\n",
    "    print(\"2. Bhojpuri\")\n",
    "    print(\"3. Punjabi\")\n",
    "    print(\"4. South\")\n",
    "    choice = int(input(\"Enter the number of your choice: \"))\n",
    "    match choice:\n",
    "        case 1:\n",
    "            playMusic('ReelAudio-64128.mp3')\n",
    "        case 2:\n",
    "            playMusic('BhojpuriSong.mp3')\n",
    "        case 3:\n",
    "            playMusic('PunjabiSong.mp3')\n",
    "        case 4:\n",
    "            playMusic('SouthSong.mp3')\n",
    "        case _:\n",
    "            print(\"Invalid choice. Please select a valid option.\")\n"
   ]
  },
  {
   "cell_type": "code",
   "execution_count": null,
   "id": "67237313-f201-4733-a100-7b65b30c684b",
   "metadata": {},
   "outputs": [],
   "source": []
  }
 ],
 "metadata": {
  "kernelspec": {
   "display_name": "Python 3 (ipykernel)",
   "language": "python",
   "name": "python3"
  },
  "language_info": {
   "codemirror_mode": {
    "name": "ipython",
    "version": 3
   },
   "file_extension": ".py",
   "mimetype": "text/x-python",
   "name": "python",
   "nbconvert_exporter": "python",
   "pygments_lexer": "ipython3",
   "version": "3.12.1"
  }
 },
 "nbformat": 4,
 "nbformat_minor": 5
}
