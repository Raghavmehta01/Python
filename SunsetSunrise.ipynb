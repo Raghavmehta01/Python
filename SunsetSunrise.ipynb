import requests
import bcrypt

# User Registration Function
def register_user():
    print("=== User Registration ===")
    name = input("Enter your name: ")
    email = input("Enter your email address: ")

    password = input("Enter your password: ").encode('utf-8')
    hashed_password = bcrypt.hashpw(password, b'$2b$12$wJZ0u1R.kT.JpEtjXAV1MO')  # Fixed salt
    security_answer = input("What is your pet's name? ").strip()

    with open("login.csv", 'a') as file:
        file.write(f"{name},{email},{hashed_password.decode('utf-8')},{security_answer}\n")
    print("Registration Successful!")

# Get Location using IP information
def get_user_location():
    try:
        response = requests.get("https://ipinfo.io/json?token=19bbba750f2b4f")
        latitude, longitude = response.json()['loc'].split(',')
        print(f"Detected location: Latitude {latitude}, Longitude {longitude}")
        return latitude, longitude
    except:
        print("Error occurred while retrieving location.")
        return None, None

# Fetch Sunrise and Sunset Data
def fetch_sunrise_sunset_data():
    latitude = input("Enter latitude: ")
    longitude = input("Enter longitude: ")

    try:
        response = requests.get(f"https://api.sunrise-sunset.org/json?lat={latitude}&lng={longitude}&formatted=0")
        data = response.json()['results']
        print(f"Sunrise: {data['sunrise']}\nSunset: {data['sunset']}")
    except:
        print("Error fetching sunrise and sunset data.")

# User Login Function
def user_login():
    print("=== User Login ===")
    email = input("Enter email: ")
    password = input("Enter password: ").encode('utf-8')

    with open("login.csv", 'r') as file:
        for line in file:
            name, stored_email, stored_password, _ = line.strip().split(",")
            if email == stored_email and bcrypt.checkpw(password, stored_password.encode('utf-8')):
                print(f"Welcome, {name}!")
                fetch_sunrise_sunset_data()
                return

    print("Invalid credentials.")

# Forgot Password Function
def reset_password():
    print("=== Password Reset ===")
    email = input("Enter email: ")

    with open("login.csv", 'r') as file:
        records = [line.strip().split(",") for line in file]
        for record in records:
            if email == record[1]:
                answer = input("What is your pet's name? ")
                if answer.strip().lower() == record[3].strip().lower():
                    new_password = input("Enter new password: ").encode('utf-8')
                    record[2] = bcrypt.hashpw(new_password, b'$2b$12$wJZ0u1R.kT.JpEtjXAV1MO').decode('utf-8')  # Fixed salt
                    with open("login.csv", 'w') as file:
                        file.writelines([','.join(r) + "\n" for r in records])
                    print("Password updated successfully!")
                    return
                print("Incorrect answer.")
                return
        print("Email not found.")

# Main Program Loop
while True:
    print("\n1. Register\n2. Login\n3. Forgot Password\n4. Exit")
    choice = input("Enter choice: ")

    if choice == '1':
        register_user()
    elif choice == '2':
        user_login()
    elif choice == '3':
        reset_password()
    elif choice == '4':
        print("Goodbye!")
        break
    else:
        print("Invalid choice.")
